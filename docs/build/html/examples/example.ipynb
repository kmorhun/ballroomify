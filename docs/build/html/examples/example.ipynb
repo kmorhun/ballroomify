{
 "cells": [
  {
   "cell_type": "markdown",
   "metadata": {},
   "source": [
    "# Examples!\n",
    "\n",
    "Begin by creating the dances and dance styles you want to compete in:"
   ]
  },
  {
   "cell_type": "code",
   "execution_count": 2,
   "metadata": {},
   "outputs": [],
   "source": [
    "from dances import Dance, InternationalStandard\n",
    "\n",
    "waltz = Dance(\"Slow Waltz\", \"3/4\", 84)\n",
    "quickstep = Dance(\"Quickstep\", \"4/4\", 200)\n",
    "tango = Dance(\"Tango\", \"4/4\", 120)\n",
    "foxtrot = Dance(\"Foxtrot\", \"4/4\", 112)"
   ]
  },
  {
   "cell_type": "markdown",
   "metadata": {},
   "source": [
    "To perform, you can call `perform()` on any dance"
   ]
  },
  {
   "cell_type": "code",
   "execution_count": 3,
   "metadata": {},
   "outputs": [
    {
     "name": "stdout",
     "output_type": "stream",
     "text": [
      "Performing Slow Waltz at 84 bpm\n"
     ]
    }
   ],
   "source": [
    "waltz.perform()"
   ]
  },
  {
   "cell_type": "markdown",
   "metadata": {},
   "source": [
    "Let's create a style to encompass these dances and later compete!"
   ]
  },
  {
   "cell_type": "code",
   "execution_count": 4,
   "metadata": {},
   "outputs": [],
   "source": [
    "dances = [waltz, quickstep, tango, foxtrot]\n",
    "standard = InternationalStandard(dances)"
   ]
  },
  {
   "cell_type": "code",
   "execution_count": 12,
   "metadata": {},
   "outputs": [
    {
     "name": "stdout",
     "output_type": "stream",
     "text": [
      "Performing Slow Waltz at 84 bpm\n",
      "Performing Quickstep at 200 bpm\n",
      "Performing Tango at 120 bpm\n",
      "Performing Foxtrot at 112 bpm\n",
      "Your average ranking in International Standard was 4.25\n"
     ]
    }
   ],
   "source": [
    "from main import evaluate\n",
    "\n",
    "rankings = standard.compete()\n",
    "evaluate(standard, rankings)"
   ]
  }
 ],
 "metadata": {
  "kernelspec": {
   "display_name": "Python 3",
   "language": "python",
   "name": "python3"
  },
  "language_info": {
   "codemirror_mode": {
    "name": "ipython",
    "version": 3
   },
   "file_extension": ".py",
   "mimetype": "text/x-python",
   "name": "python",
   "nbconvert_exporter": "python",
   "pygments_lexer": "ipython3",
   "version": "3.11.4"
  }
 },
 "nbformat": 4,
 "nbformat_minor": 2
}
